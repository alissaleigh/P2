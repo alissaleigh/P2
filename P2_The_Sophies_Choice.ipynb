{
  "nbformat": 4,
  "nbformat_minor": 0,
  "metadata": {
    "colab": {
      "provenance": [],
      "authorship_tag": "ABX9TyO/cZrip3MwDq+jlTi2tCmk",
      "include_colab_link": true
    },
    "kernelspec": {
      "name": "python3",
      "display_name": "Python 3"
    },
    "language_info": {
      "name": "python"
    }
  },
  "cells": [
    {
      "cell_type": "markdown",
      "metadata": {
        "id": "view-in-github",
        "colab_type": "text"
      },
      "source": [
        "<a href=\"https://colab.research.google.com/github/alissaleigh/P2/blob/main/P2_The_Sophie's_Choice.ipynb\" target=\"_parent\"><img src=\"https://colab.research.google.com/assets/colab-badge.svg\" alt=\"Open In Colab\"/></a>"
      ]
    },
    {
      "cell_type": "markdown",
      "source": [
        "#Option One : Adult income dataset"
      ],
      "metadata": {
        "id": "rFnNF91iVAY2"
      }
    },
    {
      "cell_type": "markdown",
      "source": [
        "1. Source of data\n",
        "> https://www.kaggle.com/datasets/wenruliu/adult-income-dataset\n"
      ],
      "metadata": {
        "id": "9ivVfg1AVReU"
      }
    },
    {
      "cell_type": "markdown",
      "source": [
        "2. Brief description of data\n",
        "> Looks at income for persons 17 and older and the various factors that play into why they are making what they are making at their places of employment"
      ],
      "metadata": {
        "id": "TMWzspX1VdL4"
      }
    },
    {
      "cell_type": "markdown",
      "source": [
        "3. What is the target?\n",
        "> Income\n"
      ],
      "metadata": {
        "id": "TrfUFdxuVw8E"
      }
    },
    {
      "cell_type": "markdown",
      "source": [
        "4. What does one row represent? (A person?  A business?  An event? A product?)\n",
        "> Each row represents a diffrent person trying to make a living"
      ],
      "metadata": {
        "id": "F6oi0RkrWIGp"
      }
    },
    {
      "cell_type": "markdown",
      "source": [
        "5. Is this a classification or regression problem?\n",
        "> Regression\n",
        "\n"
      ],
      "metadata": {
        "id": "lGnL2DJ-Wpkp"
      }
    },
    {
      "cell_type": "markdown",
      "source": [
        "6. How many features does the data have?\n",
        "> 15\n",
        "\n"
      ],
      "metadata": {
        "id": "vUFvgDaEW9KU"
      }
    },
    {
      "cell_type": "markdown",
      "source": [
        "7. How many rows are in the dataset?\n",
        "> 48843\n",
        "\n"
      ],
      "metadata": {
        "id": "8O9V9fqmXCUR"
      }
    },
    {
      "cell_type": "markdown",
      "source": [
        "8. What, if any, challenges do you foresee in cleaning, exploring, or modeling this dataset?\n",
        "> There is a LOT of data in this pre approved set, so that's a bit intimidating. Plus it might take FOREVER to load anything from it, but that could create a challenge in showing my skills.\n"
      ],
      "metadata": {
        "id": "45gKmLcUXGRt"
      }
    },
    {
      "cell_type": "markdown",
      "source": [
        "#Option Two: Mall Customers"
      ],
      "metadata": {
        "id": "iATYhtrBVKnB"
      }
    },
    {
      "cell_type": "markdown",
      "source": [
        "1. Source of data\n",
        "> https://www.kaggle.com/datasets/shwetabh123/mall-customers"
      ],
      "metadata": {
        "id": "uhg9Y5-sazNK"
      }
    },
    {
      "cell_type": "markdown",
      "source": [
        "2. Brief description of data\n",
        "> Looks at data with regards to people who spend money at a mall"
      ],
      "metadata": {
        "id": "V2mqiHAtaqjR"
      }
    },
    {
      "cell_type": "markdown",
      "source": [
        "3. What is the target?\n",
        "> It would either be the annual income or spending score depending on what the question is. I think if I proced with this data set I would focus more on the spending score as being able to better perdict how much a person walking through the mall doors will spend"
      ],
      "metadata": {
        "id": "MmwtsccDanF3"
      }
    },
    {
      "cell_type": "markdown",
      "source": [
        "4. What does one row represent? (A person?  A business?  An event? A product?)\n",
        "> Each row represents a diffrent person who goes to the mall"
      ],
      "metadata": {
        "id": "phMhidQNaiXN"
      }
    },
    {
      "cell_type": "markdown",
      "source": [
        "5. Is this a classification or regression problem?\n",
        "> Regression"
      ],
      "metadata": {
        "id": "RObL7lp5aYo8"
      }
    },
    {
      "cell_type": "markdown",
      "source": [
        "6. How many features does the data have?\n",
        "> 5"
      ],
      "metadata": {
        "id": "E5nR_XfeaG8y"
      }
    },
    {
      "cell_type": "markdown",
      "source": [
        "7. How many rows are in the dataset?\n",
        "> 200"
      ],
      "metadata": {
        "id": "CNeBqqotZyCa"
      }
    },
    {
      "cell_type": "markdown",
      "source": [
        "8. What, if any, challenges do you foresee in cleaning, exploring, or modeling this dataset?\n",
        "> There isn't as much data, so there could be more of a bias based on those who provided the data"
      ],
      "metadata": {
        "id": "f43uVbzsZmMe"
      }
    }
  ]
}
